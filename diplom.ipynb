{
 "cells": [
  {
   "cell_type": "code",
   "execution_count": 2,
   "id": "d91a61b2",
   "metadata": {},
   "outputs": [
    {
     "name": "stdout",
     "output_type": "stream",
     "text": [
      "Requirement already satisfied: keras in c:\\python\\lib\\site-packages (2.9.0)\n"
     ]
    },
    {
     "name": "stderr",
     "output_type": "stream",
     "text": [
      "WARNING: You are using pip version 21.2.4; however, version 22.1.1 is available.\n",
      "You should consider upgrading via the 'C:\\Python\\python.exe -m pip install --upgrade pip' command.\n"
     ]
    },
    {
     "name": "stdout",
     "output_type": "stream",
     "text": [
      "Requirement already satisfied: sklearn in c:\\python\\lib\\site-packages (0.0)\n",
      "Requirement already satisfied: scikit-learn in c:\\python\\lib\\site-packages (from sklearn) (1.1.1)\n",
      "Requirement already satisfied: joblib>=1.0.0 in c:\\python\\lib\\site-packages (from scikit-learn->sklearn) (1.1.0)\n",
      "Requirement already satisfied: scipy>=1.3.2 in c:\\python\\lib\\site-packages (from scikit-learn->sklearn) (1.8.1)\n",
      "Requirement already satisfied: numpy>=1.17.3 in c:\\python\\lib\\site-packages (from scikit-learn->sklearn) (1.22.4)\n",
      "Requirement already satisfied: threadpoolctl>=2.0.0 in c:\\python\\lib\\site-packages (from scikit-learn->sklearn) (3.1.0)\n"
     ]
    },
    {
     "name": "stderr",
     "output_type": "stream",
     "text": [
      "WARNING: You are using pip version 21.2.4; however, version 22.1.1 is available.\n",
      "You should consider upgrading via the 'C:\\Python\\python.exe -m pip install --upgrade pip' command.\n"
     ]
    },
    {
     "name": "stdout",
     "output_type": "stream",
     "text": [
      "Requirement already satisfied: pandas in c:\\python\\lib\\site-packages (1.4.2)\n",
      "Requirement already satisfied: pytz>=2020.1 in c:\\python\\lib\\site-packages (from pandas) (2022.1)\n",
      "Requirement already satisfied: numpy>=1.18.5 in c:\\python\\lib\\site-packages (from pandas) (1.22.4)\n",
      "Requirement already satisfied: python-dateutil>=2.8.1 in c:\\python\\lib\\site-packages (from pandas) (2.8.2)\n",
      "Requirement already satisfied: six>=1.5 in c:\\python\\lib\\site-packages (from python-dateutil>=2.8.1->pandas) (1.16.0)\n"
     ]
    },
    {
     "name": "stderr",
     "output_type": "stream",
     "text": [
      "WARNING: You are using pip version 21.2.4; however, version 22.1.1 is available.\n",
      "You should consider upgrading via the 'C:\\Python\\python.exe -m pip install --upgrade pip' command.\n"
     ]
    },
    {
     "name": "stdout",
     "output_type": "stream",
     "text": [
      "Requirement already satisfied: numpy in c:\\python\\lib\\site-packages (1.22.4)\n"
     ]
    },
    {
     "name": "stderr",
     "output_type": "stream",
     "text": [
      "WARNING: You are using pip version 21.2.4; however, version 22.1.1 is available.\n",
      "You should consider upgrading via the 'C:\\Python\\python.exe -m pip install --upgrade pip' command.\n"
     ]
    },
    {
     "name": "stdout",
     "output_type": "stream",
     "text": [
      "Requirement already satisfied: nltk in c:\\python\\lib\\site-packages (3.7)"
     ]
    },
    {
     "name": "stderr",
     "output_type": "stream",
     "text": [
      "WARNING: You are using pip version 21.2.4; however, version 22.1.1 is available.\n",
      "You should consider upgrading via the 'C:\\Python\\python.exe -m pip install --upgrade pip' command.\n"
     ]
    },
    {
     "name": "stdout",
     "output_type": "stream",
     "text": [
      "\n",
      "Requirement already satisfied: tqdm in c:\\python\\lib\\site-packages (from nltk) (4.64.0)\n",
      "Requirement already satisfied: joblib in c:\\python\\lib\\site-packages (from nltk) (1.1.0)\n",
      "Requirement already satisfied: click in c:\\python\\lib\\site-packages (from nltk) (8.1.3)\n",
      "Requirement already satisfied: regex>=2021.8.3 in c:\\python\\lib\\site-packages (from nltk) (2022.4.24)\n",
      "Requirement already satisfied: colorama in c:\\python\\lib\\site-packages (from click->nltk) (0.4.4)\n",
      "Collecting Word2Vec\n",
      "  Using cached word2vec-0.11.1.tar.gz (42 kB)\n",
      "  Installing build dependencies: started\n",
      "  Installing build dependencies: finished with status 'done'\n",
      "  Getting requirements to build wheel: started\n",
      "  Getting requirements to build wheel: finished with status 'done'\n",
      "    Preparing wheel metadata: started\n",
      "    Preparing wheel metadata: finished with status 'done'\n",
      "Requirement already satisfied: numpy>=1.9.2 in c:\\python\\lib\\site-packages (from Word2Vec) (1.22.4)\n",
      "Requirement already satisfied: joblib in c:\\python\\lib\\site-packages (from Word2Vec) (1.1.0)\n",
      "Building wheels for collected packages: Word2Vec\n",
      "  Building wheel for Word2Vec (PEP 517): started\n",
      "  Building wheel for Word2Vec (PEP 517): finished with status 'error'\n",
      "Failed to build Word2Vec\n"
     ]
    },
    {
     "name": "stderr",
     "output_type": "stream",
     "text": [
      "  ERROR: Command errored out with exit status 1:\n",
      "   command: 'C:\\Python\\python.exe' 'C:\\Python\\lib\\site-packages\\pip\\_vendor\\pep517\\in_process\\_in_process.py' build_wheel 'C:\\Users\\RYZEN\\AppData\\Local\\Temp\\tmpatkexfw2'\n",
      "       cwd: C:\\Users\\RYZEN\\AppData\\Local\\Temp\\pip-install-kx5wcsme\\word2vec_b6d247ae4ca140f496d891d5986e1963\n",
      "  Complete output (95 lines):\n",
      "  running bdist_wheel\n",
      "  running build\n",
      "  running build_py\n",
      "  creating build\n",
      "  creating build\\lib\n",
      "  creating build\\lib\\word2vec\n",
      "  copying word2vec\\io.py -> build\\lib\\word2vec\n",
      "  copying word2vec\\scripts_interface.py -> build\\lib\\word2vec\n",
      "  copying word2vec\\utils.py -> build\\lib\\word2vec\n",
      "  copying word2vec\\wordclusters.py -> build\\lib\\word2vec\n",
      "  copying word2vec\\wordvectors.py -> build\\lib\\word2vec\n",
      "  copying word2vec\\_generated_version.py -> build\\lib\\word2vec\n",
      "  copying word2vec\\__init__.py -> build\\lib\\word2vec\n",
      "  creating build\\lib\\word2vec\\tests\n",
      "  copying word2vec\\tests\\test_core.py -> build\\lib\\word2vec\\tests\n",
      "  copying word2vec\\tests\\test_import.py -> build\\lib\\word2vec\\tests\n",
      "  copying word2vec\\tests\\test_scripts_present.py -> build\\lib\\word2vec\\tests\n",
      "  copying word2vec\\tests\\__init__.py -> build\\lib\\word2vec\\tests\n",
      "  running egg_info\n",
      "  writing word2vec.egg-info\\PKG-INFO\n",
      "  writing dependency_links to word2vec.egg-info\\dependency_links.txt\n",
      "  writing requirements to word2vec.egg-info\\requires.txt\n",
      "  writing top-level names to word2vec.egg-info\\top_level.txt\n",
      "  reading manifest file 'word2vec.egg-info\\SOURCES.txt'\n",
      "  adding license file 'LICENSE.txt'\n",
      "  writing manifest file 'word2vec.egg-info\\SOURCES.txt'\n",
      "  C:\\Users\\RYZEN\\AppData\\Local\\Temp\\pip-build-env-__5lufo5\\overlay\\Lib\\site-packages\\setuptools\\command\\build_py.py:153: SetuptoolsDeprecationWarning:     Installing 'word2vec.includes' as data is deprecated, please list it in `packages`.\n",
      "      !!\n",
      "  \n",
      "  \n",
      "      ############################\n",
      "      # Package would be ignored #\n",
      "      ############################\n",
      "      Python recognizes 'word2vec.includes' as an importable package, however it is\n",
      "      included in the distribution as \"data\".\n",
      "      This behavior is likely to change in future versions of setuptools (and\n",
      "      therefore is considered deprecated).\n",
      "  \n",
      "      Please make sure that 'word2vec.includes' is included as a package by using\n",
      "      setuptools' `packages` configuration field or the proper discovery methods\n",
      "      (for example by using `find_namespace_packages(...)`/`find_namespace:`\n",
      "      instead of `find_packages(...)`/`find:`).\n",
      "  \n",
      "      You can read more about \"package discovery\" and \"data files\" on setuptools\n",
      "      documentation page.\n",
      "  \n",
      "  \n",
      "  !!\n",
      "  \n",
      "    check.warn(importable)\n",
      "  C:\\Users\\RYZEN\\AppData\\Local\\Temp\\pip-build-env-__5lufo5\\overlay\\Lib\\site-packages\\setuptools\\command\\build_py.py:153: SetuptoolsDeprecationWarning:     Installing 'word2vec.includes.win32' as data is deprecated, please list it in `packages`.\n",
      "      !!\n",
      "  \n",
      "  \n",
      "      ############################\n",
      "      # Package would be ignored #\n",
      "      ############################\n",
      "      Python recognizes 'word2vec.includes.win32' as an importable package, however it is\n",
      "      included in the distribution as \"data\".\n",
      "      This behavior is likely to change in future versions of setuptools (and\n",
      "      therefore is considered deprecated).\n",
      "  \n",
      "      Please make sure that 'word2vec.includes.win32' is included as a package by using\n",
      "      setuptools' `packages` configuration field or the proper discovery methods\n",
      "      (for example by using `find_namespace_packages(...)`/`find_namespace:`\n",
      "      instead of `find_packages(...)`/`find:`).\n",
      "  \n",
      "      You can read more about \"package discovery\" and \"data files\" on setuptools\n",
      "      documentation page.\n",
      "  \n",
      "  \n",
      "  !!\n",
      "  \n",
      "    check.warn(importable)\n",
      "  creating build\\lib\\word2vec\\includes\n",
      "  copying word2vec\\includes\\Makefile -> build\\lib\\word2vec\\includes\n",
      "  copying word2vec\\includes\\compute-accuracy.c -> build\\lib\\word2vec\\includes\n",
      "  copying word2vec\\includes\\distance.c -> build\\lib\\word2vec\\includes\n",
      "  copying word2vec\\includes\\word-analogy.c -> build\\lib\\word2vec\\includes\n",
      "  copying word2vec\\includes\\word2phrase.c -> build\\lib\\word2vec\\includes\n",
      "  copying word2vec\\includes\\word2vec-sentence2vec.c -> build\\lib\\word2vec\\includes\n",
      "  copying word2vec\\includes\\word2vec.c -> build\\lib\\word2vec\\includes\n",
      "  creating build\\lib\\word2vec\\includes\\win32\n",
      "  copying word2vec\\includes\\win32\\Makefile -> build\\lib\\word2vec\\includes\\win32\n",
      "  copying word2vec\\includes\\win32\\compute-accuracy.c -> build\\lib\\word2vec\\includes\\win32\n",
      "  copying word2vec\\includes\\win32\\distance.c -> build\\lib\\word2vec\\includes\\win32\n",
      "  copying word2vec\\includes\\win32\\win32-port.h -> build\\lib\\word2vec\\includes\\win32\n",
      "  copying word2vec\\includes\\win32\\word-analogy.c -> build\\lib\\word2vec\\includes\\win32\n",
      "  copying word2vec\\includes\\win32\\word2phrase.c -> build\\lib\\word2vec\\includes\\win32\n",
      "  copying word2vec\\includes\\win32\\word2vec.c -> build\\lib\\word2vec\\includes\\win32\n",
      "  installing to build\\bdist.win-amd64\\wheel\n",
      "  running install\n",
      "  Running custom Install command\n",
      "  Compiling: gcc C:\\Users\\RYZEN\\AppData\\Local\\Temp\\pip-install-kx5wcsme\\word2vec_b6d247ae4ca140f496d891d5986e1963\\word2vec\\includes\\win32/word2vec.c -o Scripts\\word2vec.exe -O2 -Wall -funroll-loops\n",
      "  error: [WinError 2] Не удается найти указанный файл\n",
      "  ----------------------------------------\n",
      "  ERROR: Failed building wheel for Word2Vec\n",
      "ERROR: Could not build wheels for Word2Vec which use PEP 517 and cannot be installed directly\n",
      "WARNING: You are using pip version 21.2.4; however, version 22.1.1 is available.\n",
      "You should consider upgrading via the 'C:\\Python\\python.exe -m pip install --upgrade pip' command.\n"
     ]
    },
    {
     "name": "stdout",
     "output_type": "stream",
     "text": [
      "Requirement already satisfied: tensorflow in c:\\python\\lib\\site-packages (2.9.1)\n",
      "Requirement already satisfied: tensorflow-estimator<2.10.0,>=2.9.0rc0 in c:\\python\\lib\\site-packages (from tensorflow) (2.9.0)\n",
      "Requirement already satisfied: termcolor>=1.1.0 in c:\\python\\lib\\site-packages (from tensorflow) (1.1.0)\n",
      "Requirement already satisfied: astunparse>=1.6.0 in c:\\python\\lib\\site-packages (from tensorflow) (1.6.3)\n",
      "Requirement already satisfied: flatbuffers<2,>=1.12 in c:\\python\\lib\\site-packages (from tensorflow) (1.12)\n",
      "Requirement already satisfied: packaging in c:\\python\\lib\\site-packages (from tensorflow) (21.3)\n",
      "Requirement already satisfied: keras<2.10.0,>=2.9.0rc0 in c:\\python\\lib\\site-packages (from tensorflow) (2.9.0)\n",
      "Requirement already satisfied: typing-extensions>=3.6.6 in c:\\python\\lib\\site-packages (from tensorflow) (4.2.0)\n",
      "Requirement already satisfied: keras-preprocessing>=1.1.1 in c:\\python\\lib\\site-packages (from tensorflow) (1.1.2)\n",
      "Requirement already satisfied: gast<=0.4.0,>=0.2.1 in c:\\python\\lib\\site-packages (from tensorflow) (0.4.0)\n",
      "Requirement already satisfied: six>=1.12.0 in c:\\python\\lib\\site-packages (from tensorflow) (1.16.0)\n",
      "Requirement already satisfied: setuptools in c:\\python\\lib\\site-packages (from tensorflow) (58.1.0)\n",
      "Requirement already satisfied: protobuf<3.20,>=3.9.2 in c:\\python\\lib\\site-packages (from tensorflow) (3.19.4)\n",
      "Requirement already satisfied: grpcio<2.0,>=1.24.3 in c:\\python\\lib\\site-packages (from tensorflow) (1.46.3)\n",
      "Requirement already satisfied: numpy>=1.20 in c:\\python\\lib\\site-packages (from tensorflow) (1.22.4)\n",
      "Requirement already satisfied: tensorboard<2.10,>=2.9 in c:\\python\\lib\\site-packages (from tensorflow) (2.9.0)\n",
      "Requirement already satisfied: google-pasta>=0.1.1 in c:\\python\\lib\\site-packages (from tensorflow) (0.2.0)\n",
      "Requirement already satisfied: opt-einsum>=2.3.2 in c:\\python\\lib\\site-packages (from tensorflow) (3.3.0)\n",
      "Requirement already satisfied: h5py>=2.9.0 in c:\\python\\lib\\site-packages (from tensorflow) (3.7.0)\n",
      "Requirement already satisfied: wrapt>=1.11.0 in c:\\python\\lib\\site-packages (from tensorflow) (1.14.1)\n",
      "Requirement already satisfied: tensorflow-io-gcs-filesystem>=0.23.1 in c:\\python\\lib\\site-packages (from tensorflow) (0.26.0)\n",
      "Requirement already satisfied: absl-py>=1.0.0 in c:\\python\\lib\\site-packages (from tensorflow) (1.0.0)\n",
      "Requirement already satisfied: libclang>=13.0.0 in c:\\python\\lib\\site-packages (from tensorflow) (14.0.1)\n",
      "Requirement already satisfied: wheel<1.0,>=0.23.0 in c:\\python\\lib\\site-packages (from astunparse>=1.6.0->tensorflow) (0.37.1)\n",
      "Requirement already satisfied: requests<3,>=2.21.0 in c:\\python\\lib\\site-packages (from tensorboard<2.10,>=2.9->tensorflow) (2.27.1)\n",
      "Requirement already satisfied: markdown>=2.6.8 in c:\\python\\lib\\site-packages (from tensorboard<2.10,>=2.9->tensorflow) (3.3.7)\n",
      "Requirement already satisfied: google-auth<3,>=1.6.3 in c:\\python\\lib\\site-packages (from tensorboard<2.10,>=2.9->tensorflow) (2.6.6)\n",
      "Requirement already satisfied: tensorboard-data-server<0.7.0,>=0.6.0 in c:\\python\\lib\\site-packages (from tensorboard<2.10,>=2.9->tensorflow) (0.6.1)\n",
      "Requirement already satisfied: google-auth-oauthlib<0.5,>=0.4.1 in c:\\python\\lib\\site-packages (from tensorboard<2.10,>=2.9->tensorflow) (0.4.6)\n",
      "Requirement already satisfied: werkzeug>=1.0.1 in c:\\python\\lib\\site-packages (from tensorboard<2.10,>=2.9->tensorflow) (2.1.2)\n",
      "Requirement already satisfied: tensorboard-plugin-wit>=1.6.0 in c:\\python\\lib\\site-packages (from tensorboard<2.10,>=2.9->tensorflow) (1.8.1)\n",
      "Requirement already satisfied: pyasn1-modules>=0.2.1 in c:\\python\\lib\\site-packages (from google-auth<3,>=1.6.3->tensorboard<2.10,>=2.9->tensorflow) (0.2.8)\n",
      "Requirement already satisfied: rsa<5,>=3.1.4 in c:\\python\\lib\\site-packages (from google-auth<3,>=1.6.3->tensorboard<2.10,>=2.9->tensorflow) (4.8)\n",
      "Requirement already satisfied: cachetools<6.0,>=2.0.0 in c:\\python\\lib\\site-packages (from google-auth<3,>=1.6.3->tensorboard<2.10,>=2.9->tensorflow) (5.1.0)\n",
      "Requirement already satisfied: requests-oauthlib>=0.7.0 in c:\\python\\lib\\site-packages (from google-auth-oauthlib<0.5,>=0.4.1->tensorboard<2.10,>=2.9->tensorflow) (1.3.1)\n",
      "Requirement already satisfied: importlib-metadata>=4.4 in c:\\python\\lib\\site-packages (from markdown>=2.6.8->tensorboard<2.10,>=2.9->tensorflow) (4.11.4)\n",
      "Requirement already satisfied: zipp>=0.5 in c:\\python\\lib\\site-packages (from importlib-metadata>=4.4->markdown>=2.6.8->tensorboard<2.10,>=2.9->tensorflow) (3.8.0)\n",
      "Requirement already satisfied: pyasn1<0.5.0,>=0.4.6 in c:\\python\\lib\\site-packages (from pyasn1-modules>=0.2.1->google-auth<3,>=1.6.3->tensorboard<2.10,>=2.9->tensorflow) (0.4.8)\n",
      "Requirement already satisfied: certifi>=2017.4.17 in c:\\python\\lib\\site-packages (from requests<3,>=2.21.0->tensorboard<2.10,>=2.9->tensorflow) (2022.5.18.1)\n",
      "Requirement already satisfied: charset-normalizer~=2.0.0 in c:\\python\\lib\\site-packages (from requests<3,>=2.21.0->tensorboard<2.10,>=2.9->tensorflow) (2.0.12)\n",
      "Requirement already satisfied: urllib3<1.27,>=1.21.1 in c:\\python\\lib\\site-packages (from requests<3,>=2.21.0->tensorboard<2.10,>=2.9->tensorflow) (1.26.9)\n",
      "Requirement already satisfied: idna<4,>=2.5 in c:\\python\\lib\\site-packages (from requests<3,>=2.21.0->tensorboard<2.10,>=2.9->tensorflow) (3.3)\n",
      "Requirement already satisfied: oauthlib>=3.0.0 in c:\\python\\lib\\site-packages (from requests-oauthlib>=0.7.0->google-auth-oauthlib<0.5,>=0.4.1->tensorboard<2.10,>=2.9->tensorflow) (3.2.0)\n",
      "Requirement already satisfied: pyparsing!=3.0.5,>=2.0.2 in c:\\python\\lib\\site-packages (from packaging->tensorflow) (3.0.9)\n"
     ]
    },
    {
     "name": "stderr",
     "output_type": "stream",
     "text": [
      "WARNING: You are using pip version 21.2.4; however, version 22.1.1 is available.\n",
      "You should consider upgrading via the 'C:\\Python\\python.exe -m pip install --upgrade pip' command.\n"
     ]
    },
    {
     "name": "stdout",
     "output_type": "stream",
     "text": [
      "Collecting matplotlib\n",
      "  Using cached matplotlib-3.5.2-cp39-cp39-win_amd64.whl (7.2 MB)\n",
      "Collecting fonttools>=4.22.0\n",
      "  Using cached fonttools-4.33.3-py3-none-any.whl (930 kB)\n",
      "Collecting pillow>=6.2.0\n",
      "  Using cached Pillow-9.1.1-cp39-cp39-win_amd64.whl (3.3 MB)\n",
      "Collecting kiwisolver>=1.0.1\n",
      "  Using cached kiwisolver-1.4.2-cp39-cp39-win_amd64.whl (55 kB)\n",
      "Collecting cycler>=0.10\n",
      "  Using cached cycler-0.11.0-py3-none-any.whl (6.4 kB)\n",
      "Requirement already satisfied: pyparsing>=2.2.1 in c:\\python\\lib\\site-packages (from matplotlib) (3.0.9)\n",
      "Requirement already satisfied: packaging>=20.0 in c:\\python\\lib\\site-packages (from matplotlib) (21.3)\n",
      "Requirement already satisfied: python-dateutil>=2.7 in c:\\python\\lib\\site-packages (from matplotlib) (2.8.2)\n",
      "Requirement already satisfied: numpy>=1.17 in c:\\python\\lib\\site-packages (from matplotlib) (1.22.4)\n",
      "Requirement already satisfied: six>=1.5 in c:\\python\\lib\\site-packages (from python-dateutil>=2.7->matplotlib) (1.16.0)\n",
      "Installing collected packages: pillow, kiwisolver, fonttools, cycler, matplotlib\n",
      "Successfully installed cycler-0.11.0 fonttools-4.33.3 kiwisolver-1.4.2 matplotlib-3.5.2 pillow-9.1.1\n"
     ]
    },
    {
     "name": "stderr",
     "output_type": "stream",
     "text": [
      "WARNING: You are using pip version 21.2.4; however, version 22.1.1 is available.\n",
      "You should consider upgrading via the 'C:\\Python\\python.exe -m pip install --upgrade pip' command.\n"
     ]
    }
   ],
   "source": [
    "!pip install keras\n",
    "!pip install sklearn\n",
    "!pip install pandas\n",
    "!pip install numpy\n",
    "!pip install nltk\n",
    "!pip install Word2Vec\n",
    "!pip install tensorflow\n",
    "!pip install matplotlib"
   ]
  },
  {
   "cell_type": "code",
   "execution_count": 3,
   "id": "28818ff0",
   "metadata": {},
   "outputs": [
    {
     "name": "stderr",
     "output_type": "stream",
     "text": [
      "[nltk_data] Downloading package punkt to\n",
      "[nltk_data]     C:\\Users\\RYZEN\\AppData\\Roaming\\nltk_data...\n",
      "[nltk_data]   Package punkt is already up-to-date!\n",
      "[nltk_data] Downloading package stopwords to\n",
      "[nltk_data]     C:\\Users\\RYZEN\\AppData\\Roaming\\nltk_data...\n",
      "[nltk_data]   Package stopwords is already up-to-date!\n",
      "[nltk_data] Downloading package wordnet to\n",
      "[nltk_data]     C:\\Users\\RYZEN\\AppData\\Roaming\\nltk_data...\n",
      "[nltk_data]   Package wordnet is already up-to-date!\n",
      "[nltk_data] Downloading package omw-1.4 to\n",
      "[nltk_data]     C:\\Users\\RYZEN\\AppData\\Roaming\\nltk_data...\n",
      "[nltk_data]   Package omw-1.4 is already up-to-date!\n"
     ]
    }
   ],
   "source": [
    "import codecs\n",
    "import pandas as pd\n",
    "import numpy as np\n",
    "import nltk\n",
    "from gensim.models import Word2Vec\n",
    "from sklearn.preprocessing import StandardScaler\n",
    "nltk.download('punkt')\n",
    "from nltk.corpus import stopwords\n",
    "nltk.download('stopwords')\n",
    "import re\n",
    "import csv\n",
    "nltk.download('wordnet')\n",
    "nltk.download('omw-1.4')\n",
    "import sklearn\n",
    "import pymorphy2\n",
    "from keras import models\n",
    "from keras import layers\n",
    "from tensorflow import keras\n",
    "import matplotlib.pyplot as plt"
   ]
  },
  {
   "cell_type": "code",
   "execution_count": 4,
   "id": "8c47ceb9",
   "metadata": {},
   "outputs": [],
   "source": [
    "def csv_to_list(arr):\n",
    "    arr_list = []\n",
    "    for row in arr:\n",
    "        arr_list.append(list_to_str(row))\n",
    "    return arr_list\n",
    "def list_to_str(arr):\n",
    "    str_ = ''\n",
    "    for rec in arr:\n",
    "        str_+=rec\n",
    "    return str_"
   ]
  },
  {
   "cell_type": "code",
   "execution_count": 5,
   "id": "b8893e27",
   "metadata": {},
   "outputs": [
    {
     "name": "stdout",
     "output_type": "stream",
     "text": [
      "                                                  title  type\n",
      "0                  Продам набор из 6-ти стульев. Москва     6\n",
      "1     Купить домашний текстиль в интернет-магазине п...     0\n",
      "2                 Колбасный шприц Kamille Vanessa Hakka     1\n",
      "3     Продаю одноразовые вилки и ложки серии Фазенда...     1\n",
      "4                       Диван - кровать асти вариант №1     5\n",
      "...                                                 ...   ...\n",
      "4421               Зимен Дизайнерский Стул Outlet Mebel     6\n",
      "4422              Диван в классическом стиле Честерфилд     5\n",
      "4423                   Столы и скамьи для бани из осины     6\n",
      "4424  Интернет-магазин осуществляющих on-line продаж...     2\n",
      "4425                Лого Стол из Искусственного ротанга     6\n",
      "\n",
      "[4426 rows x 2 columns]\n"
     ]
    }
   ],
   "source": [
    "d = csv_to_list(csv.reader(codecs.open('postel_tekstil.csv')))\n",
    "dd=csv_to_list(csv.reader(codecs.open('hoz_posuda.csv')))\n",
    "hb=csv_to_list(csv.reader(codecs.open('hoz_ban.csv')))\n",
    "hh=csv_to_list(csv.reader(codecs.open('hoz_himiya.csv')))\n",
    "mg=csv_to_list(csv.reader(codecs.open('mebel_garderob.csv')))\n",
    "mm=csv_to_list(csv.reader(codecs.open('mebel_myagkaya.csv')))\n",
    "ms=csv_to_list(csv.reader(codecs.open('mebel_stol.csv')))\n",
    "ps=csv_to_list(csv.reader(codecs.open('postel_shtory.csv')))\n",
    "\n",
    "\n",
    "dfd = pd.DataFrame(d,columns=['title'])\n",
    "dfd['type']=0\n",
    "dff = pd.DataFrame(dd,columns=['title'])\n",
    "dff['type']=1\n",
    "dfhb = pd.DataFrame(hb,columns=['title'])\n",
    "dfhb['type']=2\n",
    "dfhh = pd.DataFrame(hh,columns=['title'])\n",
    "dfhh['type']=3\n",
    "dfmg = pd.DataFrame(mg,columns=['title'])\n",
    "dfmg['type']=4\n",
    "dfmm = pd.DataFrame(mm,columns=['title'])\n",
    "dfmm['type']=5\n",
    "dfms = pd.DataFrame(ms,columns=['title'])\n",
    "dfms['type']=6\n",
    "dfps = pd.DataFrame(ps,columns=['title'])\n",
    "dfps['type']=7\n",
    "df = pd.concat((dfd, dff, dfms,dfps,dfmm, dfmg, dfhh, dfhb),axis = 0).sample(frac = 1.0) # объединяем и перемешиваем\n",
    "df.index = range(0,len(df))\n",
    "print(df)"
   ]
  },
  {
   "cell_type": "code",
   "execution_count": 8,
   "id": "29eee3d0",
   "metadata": {},
   "outputs": [],
   "source": [
    "def df_preprocess(text):\n",
    "    reg = re.compile('[^а-яА-Яa-zA-Z0-9 ]')\n",
    "    #text = text.lower().replace(\"ё\", \"е\")\n",
    "    #text = text.replace(\"ъ\", \"ь\")\n",
    "    #text = text.replace(\"й\", \"и\")\n",
    "\n",
    "    text = re.sub('((www\\.[^\\s]+)|(https?://[^\\s]+))', '', text)\n",
    "    text = re.sub('@[^\\s]+', '', text)\n",
    "    text = re.sub(r'[\\*+\\#+\\№\\\"\\-+\\+\\=+\\?+\\&\\^\\.+\\;\\,+\\>+\\(\\)\\/+\\:\\\\+\\!\\-\\«\\»\\—]', '',text)\n",
    "    # заменяем числа и цифры на ''\n",
    "    text = re.sub(r'(\\d+\\s\\d+)|(\\d+)', '', text)\n",
    "    # удаляем лишние пробелы\n",
    "    text = re.sub(r'\\s+', ' ', text)\n",
    "    text = reg.sub(' ', text)\n",
    "    text=re.sub(r'[a-z]', '', text)\n",
    "    text = re.sub(r'\\b\\w{1,2}\\b', '', text)\n",
    "   \n",
    "\n",
    "    # Лемматизация\n",
    "    morph = pymorphy2.MorphAnalyzer()\n",
    "    #text =[morph.parse(word)[0].normal_form for word in text.split()]\n",
    "    st = ['москва', 'себестоимость', 'мск', 'краснодар', 'петербург', 'томск', 'казань', 'производитель', 'русский',\n",
    "          'шт', 'интернетмагазин', 'мл', 'работа', 'заказ', 'размер', 'ссср', 'недорого', 'магазин', 'продаваться',\n",
    "          'любой', 'доставка', 'цвет', 'продажа', 'оптом', 'новый', 'тц', 'продавать', 'цена', 'продать', 'омск', 'в',\n",
    "          'владивосток', 'спб', 'нный', 'тот', 'р', 'тся', 'купить', 'город', 'ооо', 'от', 'руб', 'качество',\n",
    "          'качественный', 'отдать', 'мм', 'предлагать', 'оптовый', 'иваново', 'россия', 'красивый', 'др', 'пр', 'без',\n",
    "          'кг', 'всё', 'сп', 'с', 'нп', 'б', 'два', 'новосибирск', 'новгород', 'екатеринбург', 'самара', 'санкт',\n",
    "          'санктпетербург', 'бу', 'м', 'г', 'год', 'опт']\n",
    "    text = ' '.join([morph.parse(word)[0].normal_form for word in text.split() if word not in stopWords])\n",
    "    text=' '.join([word for word in text.split() if word not in st])\n",
    "    return text"
   ]
  },
  {
   "cell_type": "code",
   "execution_count": 9,
   "id": "bd199886",
   "metadata": {},
   "outputs": [],
   "source": [
    "stopWords = set(stopwords.words('russian'))\n",
    "df['title'] = df['title'].apply(df_preprocess)\n",
    "df.to_csv('df.csv')\n"
   ]
  },
  {
   "cell_type": "code",
   "execution_count": 11,
   "id": "734e6c9c",
   "metadata": {},
   "outputs": [
    {
     "name": "stdout",
     "output_type": "stream",
     "text": [
      "0                                           [набор, стул]\n",
      "1       [домашний, текстиль, постельный, бельё, серный...\n",
      "2                                      [колбасный, шприц]\n",
      "3             [одноразовый, вилка, ложка, серия, фазенда]\n",
      "4                       [диван, кровать, астить, вариант]\n",
      "                              ...                        \n",
      "4421                           [зимя, дизайнерский, стул]\n",
      "4422             [диван, классический, стиль, честерфилд]\n",
      "4423                          [стол, скамья, баня, осина]\n",
      "4424          [осуществлять, товар, сауна, баня, красный]\n",
      "4425                  [лого, стол, искусственный, ротанг]\n",
      "Name: title, Length: 4426, dtype: object\n"
     ]
    }
   ],
   "source": [
    "df_clean = pd.read_csv('df.csv')\n",
    "\n",
    "from nltk.tokenize import RegexpTokenizer\n",
    "\n",
    "tokenizer = RegexpTokenizer(r'\\w+')\n",
    "df_clean['title'] = df_clean['title'].astype('str')\n",
    "df_clean[\"title\"] = df_clean[\"title\"].apply(tokenizer.tokenize)\n",
    "\n",
    "df=df_clean\n",
    "df.dropna(axis=0, how='any')\n",
    "print(df['title'])"
   ]
  },
  {
   "cell_type": "code",
   "execution_count": 12,
   "id": "347c4cfb",
   "metadata": {},
   "outputs": [
    {
     "data": {
      "text/plain": [
       "2274    [жалюзи, рулонный, штора, моторизация, рольста...\n",
       "1756    [торговля, бытовой, химия, хозтовары, сад, ого...\n",
       "2411               [древесный, стол, сделать, свой, рука]\n",
       "1263               [жалюзи, горизонтальный, вертикальный]\n",
       "1241            [сумка, ножевой, нож, коллекционирование]\n",
       "                              ...                        \n",
       "2015    [жалюзи, рольштора, видный, рулонный, штора, в...\n",
       "1244                                   [максвелл, кресло]\n",
       "3372                    [перчатка, таблетка, посудомойка]\n",
       "1365                                        [рольставень]\n",
       "3579    [родентицидный, средство, грызун, абсолёный, т...\n",
       "Name: title, Length: 3186, dtype: object"
      ]
     },
     "execution_count": 12,
     "metadata": {},
     "output_type": "execute_result"
    }
   ],
   "source": [
    "from sklearn.model_selection import train_test_split\n",
    "X_train, X_valid, y_train, y_valid = train_test_split(df['title'], df['type'], test_size=0.1,random_state=42)\n",
    "X_train, X_test, y_train, y_test = train_test_split(X_train, y_train, test_size=0.2,random_state=42)\n",
    "X_train"
   ]
  },
  {
   "cell_type": "code",
   "execution_count": 13,
   "id": "0ab75174",
   "metadata": {},
   "outputs": [
    {
     "name": "stdout",
     "output_type": "stream",
     "text": [
      "KeyedVectors<vector_size=450, 696 keys>\n",
      "['штора', 'постельный', 'бельё', 'баня', 'жалюзи', 'диван', 'веник', 'стол', 'шкаф', 'мебель', 'средство', 'банный', 'стул', 'рулонный', 'февраль', 'комфорт', 'комплект', 'кресло', 'стенка', 'мягкий', 'дуб', 'сауна', 'текстиль', 'дом', 'пошив', 'состояние', 'гостиная', 'набор', 'массив', 'очистка', 'посуда', 'дубовый', 'сатина', 'прихожая', 'хороший', 'чан', 'угловой', 'карниз', 'чугунный', 'деревянный', 'отличный', 'журнальный', 'тканевый', 'полка', 'производство', 'диванкровать', 'химия', 'розница', 'тип', 'покрывало', 'окно', 'изготовление', 'столик', 'берёзовый', 'бель', 'вертикальный', 'ваш', 'комод', 'вода', 'бязь', 'дерево', 'таракан', 'бытовой', 'бактерия', 'ручной', 'низкий', 'вид', 'камень', 'стиль', 'ткань', 'клоп', 'обеденный', 'пластиковый', 'одежда', 'натуральный', 'белый', 'гардеробный', 'моющий', 'стеклянный', 'богатырь', 'литр', 'горизонтальный', 'кровать', 'дизайн', 'гостиница', 'дезинфицировать', 'прямой', 'подарок', 'наличие', 'большой', 'вешалка', 'плед', 'установка', 'товар', 'стеллаж', 'склад', 'купель', 'сточный', 'кухня', 'доска', 'наволочка', 'простыня', 'мочалка', 'принадлежность', 'подушка', 'пуф', 'нож', 'ложка', 'крышка', 'стекло', 'биопрепарат', 'комната', 'домашний', 'кружка', 'кухонный', 'алюминиевый', 'тумба', 'разделочный', 'кафе', 'кедр', 'кожаный', 'классический', 'выбор', 'ресторан', 'септик', 'тюль', 'модульный', 'изделие', 'текстильный', 'фабрика', 'казан', 'дача', 'интерьер', 'чайный', 'прод', 'круглый', 'хлопок', 'металлический', 'стать', 'нержавеющий', 'стиральный', 'подарочный', 'дизайнерский', 'соль', 'одеяло', 'универсальный', 'система', 'лофт', 'бокал', 'аксессуар', 'удаление', 'разный', 'интернет', 'ассортимент', 'спальный', 'расцветка', 'гостиный', 'готовый', 'кпб', 'кофейный', 'спальня', 'раскладной', 'подставка', 'шляпа', 'коллекция', 'евро', 'орех', 'детский', 'профессиональный', 'складный', 'одноразовый', 'зеркало', 'индивидуальный', 'поверхность', 'кедровый', 'бесплатно', 'беседка', 'настенный', 'форма', 'арт', 'раздвижной', 'современный', 'мдф', 'стакан', 'термос', 'монтаж', 'хрустальный', 'даром', 'запах', 'банк', 'компания', 'табурет', 'комбинированный', 'изготовить', 'ширма', 'римский', 'тарелка', 'ремонт', 'столовая', 'больший', 'веранда', 'челябинск', 'высота', 'фарфор', 'пвх', 'соном', 'порошок', 'штука', 'италия', 'обувь', 'сосна', 'бассейн', 'рука', 'материал', 'ясень', 'стильный', 'рисунок', 'бер', 'сервиз', 'трава', 'концентрат', 'срочно', 'запарка', 'столовый', 'недорогой', 'хранение', 'ящик', 'ширина', 'очиститель', 'скалка', 'офис', 'липа', 'дёшево', 'сон', 'бесплатный', 'маркиз', 'ваза', 'ламбрекен', 'палермо', 'скидка', 'серебряный', 'выгребной', 'салон', 'ручка', 'керамический', 'гель', 'книжный', 'цветной', 'искусственный', 'масло', 'банкетка', 'каркас', 'насекомое', 'щётка', 'берёза', 'препарат', 'смола', 'хозяйственный', 'антисептик', 'кубань', 'красный', 'печь', 'мебельный', 'древесина', 'фото', 'бежевый', 'плиссе', 'очистный', 'рольставень', 'воздух', 'машинка', 'биотуалет', 'жидкость', 'чистить', 'весь', 'бескаркасный', 'молодильный', 'против', 'ключ', 'элитный', 'для', 'жироуловитель', 'креслокровать', 'замереть', 'саратов', 'область', 'эконом', 'поплин', 'исп', 'полотенце', 'мешок', 'чайник', 'груша', 'предмет', 'венга', 'тело', 'перегородка', 'биоактиватор', 'промышленный', 'устройство', 'союз', 'электрический', 'лдсп', 'завод', 'чёрный', 'день', 'хрусталь', 'очень', 'чистый', 'ножка', 'люкс', 'бутылка', 'диаметр', 'мебельнеман', 'сетка', 'сооружение', 'высокий', 'зовыя', 'место', 'выпечка', 'основа', 'завеса', 'оформление', 'производить', 'студент', 'стоковый', 'распродажа', 'узбекский', 'эпоксидный', 'письменный', 'общежитие', 'паста', 'удобный', 'ивановский', 'тест', 'блюдо', 'гималайский', 'канализация', 'кавказский', 'честер', 'липовый', 'нержавейка', 'аналог', 'новинка', 'ароматизатор', 'жидкий', 'костёр', 'медный', 'терраса', 'навесный', 'керамика', 'итальянский', 'купание', 'пихтовый', 'бак', 'ведро', 'кованый', 'бар', 'стирка', 'эвкалипт', 'чехол', 'чистка', 'вместительный', 'минь', 'акция', 'плитка', 'шесть', 'зеркальный', 'дверь', 'обувница', 'оригинальный', 'портьера', 'выезд', 'пивная', 'зебра', 'кожа', 'жадеит', 'уличный', 'квартира', 'продукция', 'чашка', 'прибор', 'загрязнение', 'крым', 'энгельс', 'трансформера', 'сервировочный', 'винслоу', 'фильтр', 'помещение', 'водоочистка', 'отель', 'нефрит', 'лиственница', 'декоративный', 'самовар', 'принять', 'мытьё', 'овальный', 'туалетный', 'мыло', 'вилка', 'пара', 'связь', 'массажный', 'напольный', 'ветвь', 'мрамор', 'отложение', 'бука', 'поставка', 'столешница', 'nanofix', 'венский', 'эффект', 'монета', 'барнаул', 'время', 'банка', 'стопка', 'фотоштора', 'мельхиоровый', 'мультисан', 'край', 'фартук', 'прованс', 'перкаль', 'класс', 'витрина', 'полипропиленовый', 'комфортный', 'качественно', 'зал', 'антицеллюлитный', 'корпусный', 'табуретка', 'волгоград', 'магазинасклад', 'запчасть', 'дорого', 'светлый', 'купе', 'фазенда', 'звонить', 'турция', 'рубль', 'таблетка', 'коврик', 'клещ', 'сумочка', 'сложность', 'кастрюля', 'премиум', 'рюмка', 'зубчатый', 'фужер', 'наматрасник', 'кассетный', 'огромный', 'жаккардовый', 'пододеяльник', 'доступный', 'запарник', 'закаточный', 'обливной', 'германия', 'мочало', 'лыко', 'балкон', 'колотый', 'глянец', 'подшипник', 'самовывоз', 'грызун', 'чкаловск', 'матрас', 'пуфик', 'прозрачный', 'вино', 'парение', 'свой', 'покрытие', 'экокожа', 'пищевой', 'золото', 'защитный', 'фитобочка', 'таз', 'мёд', 'водоподготовка', 'металлокаркас', 'шапка', 'секция', 'широкий', 'вакуумный', 'предлогай', 'мелкий', 'таблетировать', 'напиток', 'рустика', 'российский', 'фарфоровый', 'эксклюзивный', 'четыре', 'винтаж', 'жир', 'бизнес', 'салатник', 'интерьерный', 'фурнитура', 'рабочий', 'накипь', 'эффективный', 'длинный', 'самый', 'армейский', 'эмалировать', 'автономный', 'инсектицид', 'быстро', 'пластика', 'зонирование', 'сидение', 'стенд', 'столкнижка', 'амальгама', 'автоматический', 'тулава', 'горячий', 'механизм', 'однотонный', 'спальная', 'скамья', 'концентрированный', 'двухместный', 'упаковка', 'флакон', 'роза', 'дентат', 'мастерская', 'серия', 'переезд', 'очищать', 'сад', 'москитный', 'менеджер', 'супер', 'театральный', 'вариант', 'японский', 'махровый', 'теплоноситель', 'мнц', 'китай', 'вертел', 'двухстворчатый', 'напрямую', 'розжиг', 'графин', 'блиц', 'стаканчик', 'дар', 'антибактериальный', 'семейный', 'бумажный', 'различный', 'медь', 'навес', 'резинка', 'готовка', 'дрова', 'гостинный', 'ситец', 'хвоя', 'кировский', 'другой', 'честерфилд', 'классика', 'подвесной', 'любитель', 'жаккарда', 'силиконовый', 'каретный', 'торговый', 'поднос', 'март', 'заводский', 'банька', 'ржавчина', 'твист', 'производственный', 'вкус', 'краска', 'модный', 'прямоугольный', 'серебро', 'органза', 'меховой', 'пергола', 'старинный', 'отопление', 'лёгкий', 'стяжка', 'инфракрасный', 'мужчина', 'шить', 'выставочный', 'осина', 'салфетница', 'торговля', 'диванкнижка', 'амстердам', 'бархат', 'потолочный', 'губка', 'модель', 'длина', 'идеальный', 'книга', 'япония', 'слить', 'заказать', 'бочка', 'ковш', 'медицинский', 'разборный', 'лавка', 'марка', 'это', 'машина', 'этажерка', 'юнна', 'кушетка', 'советский', 'эко', 'выгодный', 'солнцезащитный', 'крупный', 'алтайский', 'срок', 'горка', 'металл', 'кисея', 'сумка', 'плесень', 'один', 'ева', 'консервирование', 'люверс', 'тапочки', 'стальной', 'набивной', 'ведущий', 'шкафчик', 'основание', 'фирма', 'гарнитур', 'реализовать', 'персона', 'малогабаритный', 'плюшевый', 'остин', 'бутыль', 'печка', 'полировать', 'виски', 'кулич', 'котёл', 'косметика', 'коричневый', 'здоровье', 'турецкий', 'немецкий', 'пропитка', 'садовый', 'олимп', 'подъёмный', 'фотожалюзи', 'сономабелый', 'уют', 'контейнер', 'искушение', 'войлочный', 'сковорода', 'эмаль', 'антикварный', 'сушилка', 'крючок', 'гарвард', 'торцевой', 'кофе', 'мех', 'выдвижной', 'вышивка', 'зелёный', 'обработка']\n"
     ]
    }
   ],
   "source": [
    "w2v_model = Word2Vec(\n",
    "    min_count=5,\n",
    "    window=2,\n",
    "    vector_size=450,\n",
    "    negative=10,\n",
    "    alpha=0.03,\n",
    "    min_alpha=0.0007,\n",
    "    sample=6e-5,\n",
    "    sg=1)\n",
    "df['title'] = df['title'].tolist()\n",
    "#df_clean['title'] = df_clean['title'].str.split()\n",
    "w2v_model.build_vocab(df['title'])\n",
    "w2v_model.train(df['title'], total_examples=w2v_model.corpus_count, epochs=30)\n",
    "\n",
    "print(w2v_model.wv)\n",
    "print(w2v_model.wv.index_to_key)\n",
    "\n",
    "w2v_model.save('word2vec.model')"
   ]
  },
  {
   "cell_type": "code",
   "execution_count": 15,
   "id": "9a8a6613",
   "metadata": {},
   "outputs": [
    {
     "name": "stdout",
     "output_type": "stream",
     "text": [
      "Requirement already satisfied: tqdm in c:\\python\\lib\\site-packages (4.64.0)\n",
      "Requirement already satisfied: colorama in c:\\python\\lib\\site-packages (from tqdm) (0.4.4)\n"
     ]
    },
    {
     "name": "stderr",
     "output_type": "stream",
     "text": [
      "WARNING: You are using pip version 21.2.4; however, version 22.1.1 is available.\n",
      "You should consider upgrading via the 'C:\\Python\\python.exe -m pip install --upgrade pip' command.\n"
     ]
    }
   ],
   "source": [
    "!pip install tqdm\n",
    "from tqdm import tqdm\n"
   ]
  },
  {
   "cell_type": "code",
   "execution_count": 16,
   "id": "8493f349",
   "metadata": {},
   "outputs": [
    {
     "name": "stderr",
     "output_type": "stream",
     "text": [
      "100%|███████████████████████████████████████████████████████████████████████████| 3186/3186 [00:00<00:00, 24134.89it/s]\n"
     ]
    }
   ],
   "source": [
    "\n",
    "#X_train vector\n",
    "listof_sent_vec = []\n",
    "# tqdm is for improving speed and making progressbar\n",
    "for sent in tqdm(X_train):\n",
    "    sent_vec = np.zeros(450)\n",
    "    cnt_words = 0;\n",
    "    for word in sent:\n",
    "        if word in w2v_model.wv.index_to_key:\n",
    "            vec = w2v_model.wv[word]\n",
    "            sent_vec += vec\n",
    "            cnt_words += 1\n",
    "    if cnt_words != 0:\n",
    "        sent_vec /= cnt_words\n",
    "    listof_sent_vec.append(sent_vec)\n",
    "\n",
    "Label = y_train\n",
    "list_col = tuple(range(450))\n",
    "Scaler = StandardScaler()\n",
    "train_vec = Scaler.fit_transform(listof_sent_vec)\n",
    "W2v_data_train = pd.DataFrame(data=train_vec, columns=list_col)\n",
    "W2v_data_train[\"type\"] = Label\n",
    "W2v_data_train.to_csv('W2v_data_train.csv')"
   ]
  },
  {
   "cell_type": "code",
   "execution_count": 17,
   "id": "e8f4ef75",
   "metadata": {},
   "outputs": [
    {
     "name": "stderr",
     "output_type": "stream",
     "text": [
      "100%|█████████████████████████████████████████████████████████████████████████████| 443/443 [00:00<00:00, 23313.38it/s]\n"
     ]
    }
   ],
   "source": [
    "#X_valid vector\n",
    "listof_sent_vec = []\n",
    "for sent in tqdm(X_valid):\n",
    "    sent_vec = np.zeros(450)\n",
    "    cnt_words = 0;\n",
    "    for word in sent:\n",
    "        if word in w2v_model.wv.index_to_key:\n",
    "            vec = w2v_model.wv[word]\n",
    "            sent_vec += vec\n",
    "            cnt_words += 1\n",
    "    if cnt_words != 0:\n",
    "        sent_vec /= cnt_words\n",
    "    listof_sent_vec.append(sent_vec)\n",
    "\n",
    "Label = y_valid\n",
    "list_col = tuple(range(450))\n",
    "cv_vec = Scaler.transform(listof_sent_vec)\n",
    "W2v_data_cv = pd.DataFrame(data=cv_vec, columns=list_col)\n",
    "W2v_data_cv[\"type\"] = Label\n",
    "W2v_data_cv.to_csv('W2v_data_cv.csv')"
   ]
  },
  {
   "cell_type": "code",
   "execution_count": 18,
   "id": "76422111",
   "metadata": {},
   "outputs": [
    {
     "name": "stderr",
     "output_type": "stream",
     "text": [
      "100%|█████████████████████████████████████████████████████████████████████████████| 797/797 [00:00<00:00, 24906.20it/s]\n"
     ]
    }
   ],
   "source": [
    "#X_test vector\n",
    "listof_sent_vec = []\n",
    "\n",
    "for sent in tqdm(X_test):\n",
    "    sent_vec = np.zeros(450)\n",
    "    cnt_words = 0;\n",
    "    for word in sent:\n",
    "        if word in w2v_model.wv.index_to_key:\n",
    "            vec = w2v_model.wv[word]\n",
    "            sent_vec += vec\n",
    "            cnt_words += 1\n",
    "    if cnt_words != 0:\n",
    "        sent_vec /= cnt_words\n",
    "    listof_sent_vec.append(sent_vec)\n",
    "\n",
    "Label = y_test\n",
    "list_col = tuple(range(450))\n",
    "test_vec = Scaler.transform(listof_sent_vec)\n",
    "W2v_data_test = pd.DataFrame(data=test_vec, columns=list_col)\n",
    "W2v_data_test[\"type\"] = Label\n",
    "W2v_data_test.to_csv('W2v_data_test.csv')"
   ]
  },
  {
   "cell_type": "code",
   "execution_count": 23,
   "id": "6da88763",
   "metadata": {},
   "outputs": [
    {
     "data": {
      "text/plain": [
       "array([[0., 0., 0., ..., 0., 0., 1.],\n",
       "       [0., 0., 0., ..., 0., 0., 0.],\n",
       "       [0., 0., 0., ..., 0., 1., 0.],\n",
       "       ...,\n",
       "       [0., 0., 0., ..., 0., 0., 0.],\n",
       "       [0., 0., 0., ..., 0., 0., 1.],\n",
       "       [0., 0., 0., ..., 0., 0., 0.]], dtype=float32)"
      ]
     },
     "execution_count": 23,
     "metadata": {},
     "output_type": "execute_result"
    }
   ],
   "source": [
    "from keras.utils.np_utils import to_categorical\n",
    "\n",
    "nb_classes=8\n",
    "train_labels =to_categorical(y_train, nb_classes)\n",
    "test_labels = to_categorical(y_test,nb_classes)\n",
    "valid_labels=to_categorical(y_valid,nb_classes)\n",
    "\n",
    "X_train = W2v_data_train.drop(\"type\",axis=1).to_numpy()\n",
    "X_valid = W2v_data_cv.drop(\"type\",axis=1).to_numpy()\n",
    "X_test = W2v_data_test.drop(\"type\",axis=1).to_numpy()\n",
    "\n",
    "train_labels"
   ]
  },
  {
   "cell_type": "code",
   "execution_count": 32,
   "id": "b29d0b7e",
   "metadata": {},
   "outputs": [
    {
     "name": "stdout",
     "output_type": "stream",
     "text": [
      "Model: \"sequential_2\"\n",
      "_________________________________________________________________\n",
      " Layer (type)                Output Shape              Param #   \n",
      "=================================================================\n",
      " dense_6 (Dense)             (None, 128)               57728     \n",
      "                                                                 \n",
      " dense_7 (Dense)             (None, 128)               16512     \n",
      "                                                                 \n",
      " dense_8 (Dense)             (None, 8)                 1032      \n",
      "                                                                 \n",
      "=================================================================\n",
      "Total params: 75,272\n",
      "Trainable params: 75,272\n",
      "Non-trainable params: 0\n",
      "_________________________________________________________________\n",
      "None\n"
     ]
    }
   ],
   "source": [
    "#Нейронная сеть\n",
    "\n",
    "model = models.Sequential()\n",
    "model.add(layers.Dense(128, activation='relu', input_shape=(450,)))\n",
    "model.add(layers.Dense(128, activation='relu'))\n",
    "#model.add(layers.Dropout(0.2))\n",
    "model.add(layers.Dense(8, activation='softmax')) # кол-во нейронов в выходном слое = кол-ву классов\n",
    "print(model.summary())"
   ]
  },
  {
   "cell_type": "code",
   "execution_count": 33,
   "id": "d4c5e131",
   "metadata": {},
   "outputs": [
    {
     "name": "stdout",
     "output_type": "stream",
     "text": [
      "Epoch 1/20\n",
      "7/7 [==============================] - 1s 33ms/step - loss: 2.2772 - accuracy: 0.1940 - val_loss: 1.9449 - val_accuracy: 0.3431\n",
      "Epoch 2/20\n",
      "7/7 [==============================] - 0s 8ms/step - loss: 1.8777 - accuracy: 0.3597 - val_loss: 1.8162 - val_accuracy: 0.4424\n",
      "Epoch 3/20\n",
      "7/7 [==============================] - 0s 8ms/step - loss: 1.7117 - accuracy: 0.4868 - val_loss: 1.6771 - val_accuracy: 0.4966\n",
      "Epoch 4/20\n",
      "7/7 [==============================] - 0s 8ms/step - loss: 1.5227 - accuracy: 0.5587 - val_loss: 1.6276 - val_accuracy: 0.4424\n",
      "Epoch 5/20\n",
      "7/7 [==============================] - 0s 8ms/step - loss: 1.5475 - accuracy: 0.5273 - val_loss: 1.3945 - val_accuracy: 0.5982\n",
      "Epoch 6/20\n",
      "7/7 [==============================] - 0s 9ms/step - loss: 1.2856 - accuracy: 0.6453 - val_loss: 1.3059 - val_accuracy: 0.6433\n",
      "Epoch 7/20\n",
      "7/7 [==============================] - 0s 8ms/step - loss: 1.2668 - accuracy: 0.6431 - val_loss: 1.1859 - val_accuracy: 0.6366\n",
      "Epoch 8/20\n",
      "7/7 [==============================] - 0s 8ms/step - loss: 1.1155 - accuracy: 0.7031 - val_loss: 1.0702 - val_accuracy: 0.7111\n",
      "Epoch 9/20\n",
      "7/7 [==============================] - 0s 8ms/step - loss: 1.0441 - accuracy: 0.7153 - val_loss: 1.1364 - val_accuracy: 0.6749\n",
      "Epoch 10/20\n",
      "7/7 [==============================] - 0s 9ms/step - loss: 1.1772 - accuracy: 0.6667 - val_loss: 0.9962 - val_accuracy: 0.6953\n",
      "Epoch 11/20\n",
      "7/7 [==============================] - 0s 8ms/step - loss: 0.8896 - accuracy: 0.7721 - val_loss: 0.9157 - val_accuracy: 0.7404\n",
      "Epoch 12/20\n",
      "7/7 [==============================] - 0s 9ms/step - loss: 0.8511 - accuracy: 0.7712 - val_loss: 0.8414 - val_accuracy: 0.7585\n",
      "Epoch 13/20\n",
      "7/7 [==============================] - 0s 8ms/step - loss: 0.8783 - accuracy: 0.7577 - val_loss: 0.9246 - val_accuracy: 0.7427\n",
      "Epoch 14/20\n",
      "7/7 [==============================] - 0s 9ms/step - loss: 0.7882 - accuracy: 0.7853 - val_loss: 0.7689 - val_accuracy: 0.7652\n",
      "Epoch 15/20\n",
      "7/7 [==============================] - 0s 11ms/step - loss: 0.8919 - accuracy: 0.7495 - val_loss: 0.8278 - val_accuracy: 0.7562\n",
      "Epoch 16/20\n",
      "7/7 [==============================] - 0s 9ms/step - loss: 0.7230 - accuracy: 0.7994 - val_loss: 1.0239 - val_accuracy: 0.7020\n",
      "Epoch 17/20\n",
      "7/7 [==============================] - 0s 9ms/step - loss: 0.7432 - accuracy: 0.7916 - val_loss: 0.7049 - val_accuracy: 0.8059\n",
      "Epoch 18/20\n",
      "7/7 [==============================] - 0s 8ms/step - loss: 0.6737 - accuracy: 0.8117 - val_loss: 0.8234 - val_accuracy: 0.7381\n",
      "Epoch 19/20\n",
      "7/7 [==============================] - 0s 9ms/step - loss: 0.8477 - accuracy: 0.7451 - val_loss: 0.6498 - val_accuracy: 0.7810\n",
      "Epoch 20/20\n",
      "7/7 [==============================] - 0s 9ms/step - loss: 0.6238 - accuracy: 0.8227 - val_loss: 0.6597 - val_accuracy: 0.8104\n"
     ]
    },
    {
     "data": {
      "image/png": "[encoded data removed]",
      "text/plain": [
       "<Figure size 432x288 with 1 Axes>"
      ]
     },
     "metadata": {
      "needs_background": "light"
     },
     "output_type": "display_data"
    },
    {
     "name": "stdout",
     "output_type": "stream",
     "text": [
      "0.6497697830200195\n"
     ]
    }
   ],
   "source": [
    "model.compile(optimizer='rmsprop',\n",
    "              loss=keras.losses.CategoricalCrossentropy(),\n",
    "              metrics=['accuracy'])\n",
    "\n",
    "history = model.fit(X_train,\n",
    "                    train_labels,\n",
    "                    epochs=20,\n",
    "                    batch_size=512,\n",
    "                    validation_data=(X_valid, valid_labels))\n",
    "\n",
    "\n",
    "\n",
    "loss = history.history['loss']\n",
    "val_loss = history.history['val_loss']\n",
    "\n",
    "epochs = range(1, len(loss) + 1)\n",
    "\n",
    "plt.plot(epochs, loss, 'bo', label='Training loss')\n",
    "plt.plot(epochs, val_loss, 'b', label='Validation loss')\n",
    "plt.title('Training and validation loss')\n",
    "plt.xlabel('Epochs')\n",
    "plt.ylabel('Loss')\n",
    "plt.legend()\n",
    "\n",
    "plt.show()\n",
    "print(min(history.history['val_loss']))"
   ]
  },
  {
   "cell_type": "code",
   "execution_count": 34,
   "id": "4bc7d864",
   "metadata": {},
   "outputs": [
    {
     "data": {
      "image/png": "[encoded data removed]",
      "text/plain": [
       "<Figure size 432x288 with 1 Axes>"
      ]
     },
     "metadata": {
      "needs_background": "light"
     },
     "output_type": "display_data"
    }
   ],
   "source": [
    "plt.clf()   # clear figure\n",
    "\n",
    "acc = history.history['accuracy']\n",
    "val_acc = history.history['val_accuracy']\n",
    "\n",
    "plt.plot(epochs, acc, 'bo', label='Training acc')\n",
    "plt.plot(epochs, val_acc, 'b', label='Validation acc')\n",
    "plt.title('Training and validation accuracy')\n",
    "plt.xlabel('Epochs')\n",
    "plt.ylabel('Accuracy')\n",
    "plt.legend()\n",
    "\n",
    "plt.show()\n"
   ]
  },
  {
   "cell_type": "code",
   "execution_count": 35,
   "id": "4409e390",
   "metadata": {},
   "outputs": [
    {
     "name": "stdout",
     "output_type": "stream",
     "text": [
      "25/25 [==============================] - 0s 1ms/step - loss: 0.7047 - accuracy: 0.8156\n",
      "[0.7046707272529602, 0.8155583143234253]\n"
     ]
    }
   ],
   "source": [
    "results = model.evaluate(X_test, test_labels)\n",
    "print(results)\n",
    "\n",
    "#predictions = model.predict(X_test)\n",
    "#print(np.argmax(predictions[4]))\n",
    "#print(np.argmax(predictions[837]))\n",
    "#print(np.argmax(predictions[838]))\n",
    "\n",
    "model.save('nnmodel.h5')"
   ]
  },
  {
   "cell_type": "code",
   "execution_count": 37,
   "id": "e235eb77",
   "metadata": {},
   "outputs": [
    {
     "name": "stdout",
     "output_type": "stream",
     "text": [
      "Введите текст объявления\n",
      "Стол журнальный со стеклом\n"
     ]
    },
    {
     "name": "stderr",
     "output_type": "stream",
     "text": [
      "100%|████████████████████████████████████████████████████████████████████████████████████████████| 3/3 [00:00<?, ?it/s]"
     ]
    },
    {
     "name": "stdout",
     "output_type": "stream",
     "text": [
      "1/1 [==============================] - 0s 18ms/step\n",
      "Столы и стулья\n"
     ]
    },
    {
     "name": "stderr",
     "output_type": "stream",
     "text": [
      "\n"
     ]
    }
   ],
   "source": [
    "#Проверка модели\n",
    "print('Введите текст объявления')\n",
    "a=input()\n",
    "a=df_preprocess(a)\n",
    "\n",
    "a=tokenizer.tokenize(a)\n",
    "\n",
    "\n",
    "listof_sent_vec = []\n",
    "\n",
    "for word in tqdm(a):\n",
    "    sent_vec = np.zeros(450)\n",
    "    cnt_words = 0;\n",
    "\n",
    "    if word in w2v_model.wv.index_to_key:\n",
    "        vec = w2v_model.wv[word]\n",
    "        sent_vec += vec\n",
    "        cnt_words += 1\n",
    "    if cnt_words != 0:\n",
    "        sent_vec /= cnt_words\n",
    "    listof_sent_vec.append(sent_vec)\n",
    "\n",
    "Label = y_test\n",
    "list_col = tuple(range(450))\n",
    "test_vec = Scaler.transform(listof_sent_vec)\n",
    "W2v_data= pd.DataFrame(data=test_vec, columns=list_col)\n",
    "\n",
    "aa=W2v_data.to_numpy()\n",
    "#print(aa)\n",
    "\n",
    "pr=model.predict(aa)\n",
    "cl=np.argmax(pr[0])\n",
    "if cl == 0:\n",
    "    print('Постельное бельё, текстиль')\n",
    "elif cl == 1:\n",
    "    print('Посуда, кухонные принадлежности')\n",
    "elif cl == 2:\n",
    "    print('Банные принадлежности')\n",
    "elif cl == 3:\n",
    "    print('Бытовая химия')\n",
    "elif cl == 4:\n",
    "    print('Гардеробы, стенки, шкафы')\n",
    "elif cl == 5:\n",
    "    print('Мягкая мебель')\n",
    "elif cl == 6:\n",
    "    print('Столы и стулья')\n",
    "elif cl == 7:\n",
    "    print('Шторы, жалюзи, карнизы')"
   ]
  },
  {
   "cell_type": "code",
   "execution_count": null,
   "id": "0b3b3372",
   "metadata": {},
   "outputs": [],
   "source": []
  }
 ],
 "metadata": {
  "kernelspec": {
   "display_name": "Python 3 (ipykernel)",
   "language": "python",
   "name": "python3"
  },
  "language_info": {
   "codemirror_mode": {
    "name": "ipython",
    "version": 3
   },
   "file_extension": ".py",
   "mimetype": "text/x-python",
   "name": "python",
   "nbconvert_exporter": "python",
   "pygments_lexer": "ipython3",
   "version": "3.9.10"
  }
 },
 "nbformat": 4,
 "nbformat_minor": 5
}
